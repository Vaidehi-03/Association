{
 "cells": [
  {
   "cell_type": "code",
   "execution_count": 31,
   "metadata": {},
   "outputs": [],
   "source": [
    "from mlxtend.preprocessing import TransactionEncoder\n",
    "from mlxtend.frequent_patterns import apriori,association_rules\n",
    "import pandas as pd"
   ]
  },
  {
   "cell_type": "code",
   "execution_count": 32,
   "metadata": {},
   "outputs": [
    {
     "name": "stdout",
     "output_type": "stream",
     "text": [
      "Requirement already satisfied: mlxtend in c:\\users\\10725997\\appdata\\local\\anaconda3\\lib\\site-packages (0.23.0)\n",
      "Requirement already satisfied: scipy>=1.2.1 in c:\\users\\10725997\\appdata\\local\\anaconda3\\lib\\site-packages (from mlxtend) (1.11.1)\n",
      "Requirement already satisfied: numpy>=1.16.2 in c:\\users\\10725997\\appdata\\local\\anaconda3\\lib\\site-packages (from mlxtend) (1.24.3)\n",
      "Requirement already satisfied: pandas>=0.24.2 in c:\\users\\10725997\\appdata\\local\\anaconda3\\lib\\site-packages (from mlxtend) (2.0.3)\n",
      "Requirement already satisfied: scikit-learn>=1.0.2 in c:\\users\\10725997\\appdata\\local\\anaconda3\\lib\\site-packages (from mlxtend) (1.3.0)\n",
      "Requirement already satisfied: matplotlib>=3.0.0 in c:\\users\\10725997\\appdata\\local\\anaconda3\\lib\\site-packages (from mlxtend) (3.7.2)\n",
      "Requirement already satisfied: joblib>=0.13.2 in c:\\users\\10725997\\appdata\\local\\anaconda3\\lib\\site-packages (from mlxtend) (1.2.0)\n",
      "Requirement already satisfied: contourpy>=1.0.1 in c:\\users\\10725997\\appdata\\local\\anaconda3\\lib\\site-packages (from matplotlib>=3.0.0->mlxtend) (1.0.5)\n",
      "Requirement already satisfied: cycler>=0.10 in c:\\users\\10725997\\appdata\\local\\anaconda3\\lib\\site-packages (from matplotlib>=3.0.0->mlxtend) (0.11.0)\n",
      "Requirement already satisfied: fonttools>=4.22.0 in c:\\users\\10725997\\appdata\\local\\anaconda3\\lib\\site-packages (from matplotlib>=3.0.0->mlxtend) (4.25.0)\n",
      "Requirement already satisfied: kiwisolver>=1.0.1 in c:\\users\\10725997\\appdata\\local\\anaconda3\\lib\\site-packages (from matplotlib>=3.0.0->mlxtend) (1.4.4)\n",
      "Requirement already satisfied: packaging>=20.0 in c:\\users\\10725997\\appdata\\local\\anaconda3\\lib\\site-packages (from matplotlib>=3.0.0->mlxtend) (23.1)\n",
      "Requirement already satisfied: pillow>=6.2.0 in c:\\users\\10725997\\appdata\\local\\anaconda3\\lib\\site-packages (from matplotlib>=3.0.0->mlxtend) (9.4.0)\n",
      "Requirement already satisfied: pyparsing<3.1,>=2.3.1 in c:\\users\\10725997\\appdata\\local\\anaconda3\\lib\\site-packages (from matplotlib>=3.0.0->mlxtend) (3.0.9)\n",
      "Requirement already satisfied: python-dateutil>=2.7 in c:\\users\\10725997\\appdata\\local\\anaconda3\\lib\\site-packages (from matplotlib>=3.0.0->mlxtend) (2.8.2)\n",
      "Requirement already satisfied: pytz>=2020.1 in c:\\users\\10725997\\appdata\\local\\anaconda3\\lib\\site-packages (from pandas>=0.24.2->mlxtend) (2023.3.post1)\n",
      "Requirement already satisfied: tzdata>=2022.1 in c:\\users\\10725997\\appdata\\local\\anaconda3\\lib\\site-packages (from pandas>=0.24.2->mlxtend) (2023.3)\n",
      "Requirement already satisfied: threadpoolctl>=2.0.0 in c:\\users\\10725997\\appdata\\local\\anaconda3\\lib\\site-packages (from scikit-learn>=1.0.2->mlxtend) (2.2.0)\n",
      "Requirement already satisfied: six>=1.5 in c:\\users\\10725997\\appdata\\local\\anaconda3\\lib\\site-packages (from python-dateutil>=2.7->matplotlib>=3.0.0->mlxtend) (1.16.0)\n",
      "Note: you may need to restart the kernel to use updated packages.\n"
     ]
    }
   ],
   "source": [
    "pip install mlxtend"
   ]
  },
  {
   "cell_type": "code",
   "execution_count": 33,
   "metadata": {},
   "outputs": [],
   "source": [
    "transaction=[['accessories','bike','clothing','car'],\n",
    "             ['bike','clothing','shoes','grape'],\n",
    "             ['accessories','bike','clothing','shoes'],\n",
    "             ['accessories','clothing','car','shoes'],\n",
    "             ['bike','clothing','car','shoes']]"
   ]
  },
  {
   "cell_type": "code",
   "execution_count": 34,
   "metadata": {},
   "outputs": [],
   "source": [
    "te=TransactionEncoder()"
   ]
  },
  {
   "cell_type": "code",
   "execution_count": 35,
   "metadata": {},
   "outputs": [
    {
     "name": "stdout",
     "output_type": "stream",
     "text": [
      "[[ True  True  True  True False False]\n",
      " [False  True False  True  True  True]\n",
      " [ True  True False  True False  True]\n",
      " [ True False  True  True False  True]\n",
      " [False  True  True  True False  True]]\n"
     ]
    }
   ],
   "source": [
    "te_ary=te.fit(transaction).transform(transaction)\n",
    "print(te_ary)"
   ]
  },
  {
   "cell_type": "code",
   "execution_count": 36,
   "metadata": {},
   "outputs": [
    {
     "data": {
      "text/plain": [
       "array([[1, 1, 1, 1, 0, 0],\n",
       "       [0, 1, 0, 1, 1, 1],\n",
       "       [1, 1, 0, 1, 0, 1],\n",
       "       [1, 0, 1, 1, 0, 1],\n",
       "       [0, 1, 1, 1, 0, 1]])"
      ]
     },
     "execution_count": 36,
     "metadata": {},
     "output_type": "execute_result"
    }
   ],
   "source": [
    "te_ary.astype(\"int\")"
   ]
  },
  {
   "cell_type": "code",
   "execution_count": 37,
   "metadata": {},
   "outputs": [],
   "source": [
    "df=pd.DataFrame(te_ary, columns=te.columns_)"
   ]
  },
  {
   "cell_type": "code",
   "execution_count": 38,
   "metadata": {},
   "outputs": [],
   "source": [
    "frequent_itemsets=apriori(df, min_support=0.3, use_colnames=True)"
   ]
  },
  {
   "cell_type": "code",
   "execution_count": 39,
   "metadata": {},
   "outputs": [],
   "source": [
    "rules=association_rules(frequent_itemsets,metric=\"confidence\",min_threshold=0.7)"
   ]
  },
  {
   "cell_type": "code",
   "execution_count": null,
   "metadata": {},
   "outputs": [],
   "source": []
  },
  {
   "cell_type": "code",
   "execution_count": 40,
   "metadata": {},
   "outputs": [
    {
     "name": "stdout",
     "output_type": "stream",
     "text": [
      "    support                        itemsets\n",
      "0       0.6                   (accessories)\n",
      "1       0.8                          (bike)\n",
      "2       0.6                           (car)\n",
      "3       1.0                      (clothing)\n",
      "4       0.8                         (shoes)\n",
      "5       0.4             (bike, accessories)\n",
      "6       0.4              (car, accessories)\n",
      "7       0.6         (accessories, clothing)\n",
      "8       0.4            (accessories, shoes)\n",
      "9       0.4                     (bike, car)\n",
      "10      0.8                (bike, clothing)\n",
      "11      0.6                   (bike, shoes)\n",
      "12      0.6                 (car, clothing)\n",
      "13      0.4                    (car, shoes)\n",
      "14      0.8               (clothing, shoes)\n",
      "15      0.4   (bike, accessories, clothing)\n",
      "16      0.4    (car, accessories, clothing)\n",
      "17      0.4  (shoes, accessories, clothing)\n",
      "18      0.4           (bike, car, clothing)\n",
      "19      0.6         (bike, clothing, shoes)\n",
      "20      0.4          (car, clothing, shoes)\n"
     ]
    }
   ],
   "source": [
    "print(frequent_itemsets)"
   ]
  },
  {
   "cell_type": "code",
   "execution_count": 41,
   "metadata": {},
   "outputs": [
    {
     "name": "stdout",
     "output_type": "stream",
     "text": [
      "             antecedents        consequents  antecedent support  \\\n",
      "0          (accessories)         (clothing)                 0.6   \n",
      "1                 (bike)         (clothing)                 0.8   \n",
      "2             (clothing)             (bike)                 1.0   \n",
      "3                 (bike)            (shoes)                 0.8   \n",
      "4                (shoes)             (bike)                 0.8   \n",
      "5                  (car)         (clothing)                 0.6   \n",
      "6             (clothing)            (shoes)                 1.0   \n",
      "7                (shoes)         (clothing)                 0.8   \n",
      "8    (bike, accessories)         (clothing)                 0.4   \n",
      "9     (car, accessories)         (clothing)                 0.4   \n",
      "10  (accessories, shoes)         (clothing)                 0.4   \n",
      "11           (bike, car)         (clothing)                 0.4   \n",
      "12      (bike, clothing)            (shoes)                 0.8   \n",
      "13         (bike, shoes)         (clothing)                 0.6   \n",
      "14     (clothing, shoes)             (bike)                 0.8   \n",
      "15                (bike)  (clothing, shoes)                 0.8   \n",
      "16               (shoes)   (bike, clothing)                 0.8   \n",
      "17          (car, shoes)         (clothing)                 0.4   \n",
      "\n",
      "    consequent support  support  confidence    lift  leverage  conviction  \\\n",
      "0                  1.0      0.6        1.00  1.0000      0.00         inf   \n",
      "1                  1.0      0.8        1.00  1.0000      0.00         inf   \n",
      "2                  0.8      0.8        0.80  1.0000      0.00         1.0   \n",
      "3                  0.8      0.6        0.75  0.9375     -0.04         0.8   \n",
      "4                  0.8      0.6        0.75  0.9375     -0.04         0.8   \n",
      "5                  1.0      0.6        1.00  1.0000      0.00         inf   \n",
      "6                  0.8      0.8        0.80  1.0000      0.00         1.0   \n",
      "7                  1.0      0.8        1.00  1.0000      0.00         inf   \n",
      "8                  1.0      0.4        1.00  1.0000      0.00         inf   \n",
      "9                  1.0      0.4        1.00  1.0000      0.00         inf   \n",
      "10                 1.0      0.4        1.00  1.0000      0.00         inf   \n",
      "11                 1.0      0.4        1.00  1.0000      0.00         inf   \n",
      "12                 0.8      0.6        0.75  0.9375     -0.04         0.8   \n",
      "13                 1.0      0.6        1.00  1.0000      0.00         inf   \n",
      "14                 0.8      0.6        0.75  0.9375     -0.04         0.8   \n",
      "15                 0.8      0.6        0.75  0.9375     -0.04         0.8   \n",
      "16                 0.8      0.6        0.75  0.9375     -0.04         0.8   \n",
      "17                 1.0      0.4        1.00  1.0000      0.00         inf   \n",
      "\n",
      "    zhangs_metric  \n",
      "0            0.00  \n",
      "1            0.00  \n",
      "2            0.00  \n",
      "3           -0.25  \n",
      "4           -0.25  \n",
      "5            0.00  \n",
      "6            0.00  \n",
      "7            0.00  \n",
      "8            0.00  \n",
      "9            0.00  \n",
      "10           0.00  \n",
      "11           0.00  \n",
      "12          -0.25  \n",
      "13           0.00  \n",
      "14          -0.25  \n",
      "15          -0.25  \n",
      "16          -0.25  \n",
      "17           0.00  \n"
     ]
    }
   ],
   "source": [
    "print(rules)"
   ]
  },
  {
   "cell_type": "code",
   "execution_count": 42,
   "metadata": {},
   "outputs": [],
   "source": [
    "data = pd.DataFrame({\n",
    "    'TransactionID' :[1,2,3,4,5,6,7,8,9,10],\n",
    "    'Date':['2023-01-01','2023-01-01','2023-01-02','2023-01-2','2023-01-3',\n",
    "            '2023-01-03','2023-01-04','2023-01-04','2023-01-05','2023-01-05'],\n",
    "    'Product':['A','B','B','C','A',\n",
    "               'B','A','C','A','B']\n",
    "               })"
   ]
  },
  {
   "cell_type": "code",
   "execution_count": 43,
   "metadata": {},
   "outputs": [],
   "source": [
    "data=data.set_index('Date')"
   ]
  },
  {
   "cell_type": "code",
   "execution_count": 44,
   "metadata": {},
   "outputs": [],
   "source": [
    "data1=data.drop(\"TransactionID\",axis='columns')"
   ]
  },
  {
   "cell_type": "code",
   "execution_count": 45,
   "metadata": {},
   "outputs": [],
   "source": [
    "data1=pd.get_dummies(data1)"
   ]
  },
  {
   "cell_type": "code",
   "execution_count": 46,
   "metadata": {},
   "outputs": [
    {
     "name": "stdout",
     "output_type": "stream",
     "text": [
      "            Product_A  Product_B  Product_C\n",
      "Date                                       \n",
      "2023-01-01       True      False      False\n",
      "2023-01-01      False       True      False\n",
      "2023-01-02      False       True      False\n",
      "2023-01-2       False      False       True\n",
      "2023-01-3        True      False      False\n",
      "2023-01-03      False       True      False\n",
      "2023-01-04       True      False      False\n",
      "2023-01-04      False      False       True\n",
      "2023-01-05       True      False      False\n",
      "2023-01-05      False       True      False\n"
     ]
    }
   ],
   "source": [
    "print(data1)"
   ]
  },
  {
   "cell_type": "code",
   "execution_count": 47,
   "metadata": {},
   "outputs": [],
   "source": [
    "grouped_data=data1.groupby(\"Date\").sum().replace(\"2\",\"1\")"
   ]
  },
  {
   "cell_type": "code",
   "execution_count": 48,
   "metadata": {},
   "outputs": [
    {
     "name": "stdout",
     "output_type": "stream",
     "text": [
      "            Product_A  Product_B  Product_C\n",
      "Date                                       \n",
      "2023-01-01          1          1          0\n",
      "2023-01-02          0          1          0\n",
      "2023-01-03          0          1          0\n",
      "2023-01-04          1          0          1\n",
      "2023-01-05          1          1          0\n",
      "2023-01-2           0          0          1\n",
      "2023-01-3           1          0          0\n"
     ]
    }
   ],
   "source": [
    "print(grouped_data)"
   ]
  },
  {
   "cell_type": "code",
   "execution_count": 49,
   "metadata": {},
   "outputs": [
    {
     "name": "stderr",
     "output_type": "stream",
     "text": [
      "C:\\Users\\10725997\\AppData\\Local\\anaconda3\\Lib\\site-packages\\mlxtend\\frequent_patterns\\fpcommon.py:110: DeprecationWarning: DataFrames with non-bool types result in worse computationalperformance and their support might be discontinued in the future.Please use a DataFrame with bool type\n",
      "  warnings.warn(\n"
     ]
    }
   ],
   "source": [
    "frequent_itemsets=apriori(grouped_data, min_support=0.1, use_colnames=True)"
   ]
  },
  {
   "cell_type": "code",
   "execution_count": 50,
   "metadata": {},
   "outputs": [],
   "source": [
    "rules=association_rules(frequent_itemsets,metric=\"lift\")"
   ]
  },
  {
   "cell_type": "code",
   "execution_count": 51,
   "metadata": {},
   "outputs": [
    {
     "name": "stdout",
     "output_type": "stream",
     "text": [
      "Frequent Itemsets:\n"
     ]
    }
   ],
   "source": [
    "print(\"Frequent Itemsets:\")"
   ]
  },
  {
   "cell_type": "code",
   "execution_count": 52,
   "metadata": {},
   "outputs": [
    {
     "name": "stdout",
     "output_type": "stream",
     "text": [
      "    support                itemsets\n",
      "0  0.571429             (Product_A)\n",
      "1  0.571429             (Product_B)\n",
      "2  0.285714             (Product_C)\n",
      "3  0.285714  (Product_A, Product_B)\n",
      "4  0.142857  (Product_A, Product_C)\n"
     ]
    }
   ],
   "source": [
    "print(frequent_itemsets)"
   ]
  },
  {
   "cell_type": "code",
   "execution_count": 53,
   "metadata": {},
   "outputs": [
    {
     "name": "stdout",
     "output_type": "stream",
     "text": [
      "   antecedents  consequents  antecedent support  consequent support   support  \\\n",
      "0  (Product_A)  (Product_B)            0.571429            0.571429  0.285714   \n",
      "1  (Product_B)  (Product_A)            0.571429            0.571429  0.285714   \n",
      "2  (Product_A)  (Product_C)            0.571429            0.285714  0.142857   \n",
      "3  (Product_C)  (Product_A)            0.285714            0.571429  0.142857   \n",
      "\n",
      "   confidence   lift  leverage  conviction  zhangs_metric  \n",
      "0        0.50  0.875 -0.040816    0.857143      -0.250000  \n",
      "1        0.50  0.875 -0.040816    0.857143      -0.250000  \n",
      "2        0.25  0.875 -0.020408    0.952381      -0.250000  \n",
      "3        0.50  0.875 -0.020408    0.857143      -0.166667  \n"
     ]
    }
   ],
   "source": [
    "print(rules)"
   ]
  },
  {
   "cell_type": "code",
   "execution_count": null,
   "metadata": {},
   "outputs": [],
   "source": []
  }
 ],
 "metadata": {
  "kernelspec": {
   "display_name": "Python 3 (ipykernel)",
   "language": "python",
   "name": "python3"
  }
 },
 "nbformat": 4,
 "nbformat_minor": 2
}
